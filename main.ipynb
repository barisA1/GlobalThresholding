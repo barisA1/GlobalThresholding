{
 "cells": [
  {
   "cell_type": "code",
   "execution_count": null,
   "id": "b99d0307",
   "metadata": {},
   "outputs": [],
   "source": [
    "import pandas as pd\n",
    "import numpy as np\n",
    "import matplotlib.pyplot as plt"
   ]
  },
  {
   "cell_type": "code",
   "execution_count": null,
   "id": "833f89f3",
   "metadata": {},
   "outputs": [],
   "source": [
    "# Manually input the pixel intensity and count data\n",
    "data = {\n",
    "    'Intensity': [100, 101, 102, 103, 104, 105, 106, 107, 108, 109, 110, 140, 141, 142, 143, 144, 145, 146, 147, 148, 149, 150],\n",
    "    'Count': [12, 18, 32, 48, 52, 65, 55, 42, 32, 16, 10, 5, 18, 25, 32, 40, 65, 43, 32, 20, 10, 4]\n",
    "}"
   ]
  },
  {
   "cell_type": "code",
   "execution_count": null,
   "id": "f03d7021",
   "metadata": {},
   "outputs": [],
   "source": [
    "df = pd.DataFrame(data)"
   ]
  },
  {
   "cell_type": "code",
   "execution_count": null,
   "id": "3e8e0cf5",
   "metadata": {},
   "outputs": [],
   "source": [
    "# Convert the dataframe to a full list of pixel values\n",
    "pixels = []\n",
    "for index, row in df.iterrows():\n",
    "    pixels.extend([row['Intensity']] * row['Count'])"
   ]
  },
  {
   "cell_type": "code",
   "execution_count": null,
   "id": "64295ab0",
   "metadata": {},
   "outputs": [],
   "source": [
    "pixels = np.array(pixels)"
   ]
  },
  {
   "cell_type": "code",
   "execution_count": null,
   "id": "c6bdc93c",
   "metadata": {},
   "outputs": [],
   "source": [
    "# Initialize the threshold\n",
    "T0 = np.mean(pixels)"
   ]
  },
  {
   "cell_type": "code",
   "execution_count": null,
   "id": "ba6e18e4",
   "metadata": {},
   "outputs": [],
   "source": [
    "# Convergence threshold\n",
    "threshold = 0.5"
   ]
  },
  {
   "cell_type": "code",
   "execution_count": null,
   "id": "6bc4dc39",
   "metadata": {},
   "outputs": [],
   "source": [
    "while True:\n",
    "    # Divide into two groups\n",
    "    G1 = pixels[pixels > T0]\n",
    "    G2 = pixels[pixels <= T0]\n",
    "\n",
    "    # Calculate mean values\n",
    "    m1 = np.mean(G1) if len(G1) > 0 else 0\n",
    "    m2 = np.mean(G2) if len(G2) > 0 else 0\n",
    "\n",
    "    # New threshold\n",
    "    T1 = (m1 + m2) / 2\n",
    "\n",
    "    # Check for convergence\n",
    "    if abs(T1 - T0) < threshold:\n",
    "        break\n",
    "\n",
    "    T0 = T1"
   ]
  },
  {
   "cell_type": "code",
   "execution_count": null,
   "id": "27507ad1",
   "metadata": {},
   "outputs": [],
   "source": [
    "# Plot the histogram and threshold\n",
    "plt.hist(pixels, bins=range(100, 151), edgecolor='black')\n",
    "plt.axvline(T0, color='red', linestyle='dashed', linewidth=1)\n",
    "plt.title('Pixel Intensity Histogram with Threshold')\n",
    "plt.xlabel('Intensity')\n",
    "plt.ylabel('Frequency')\n",
    "plt.show()"
   ]
  }
 ],
 "metadata": {
  "jupytext": {
   "cell_metadata_filter": "-all",
   "main_language": "python",
   "notebook_metadata_filter": "-all"
  }
 },
 "nbformat": 4,
 "nbformat_minor": 5
}
